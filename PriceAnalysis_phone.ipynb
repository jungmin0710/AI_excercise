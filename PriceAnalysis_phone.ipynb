{
  "nbformat": 4,
  "nbformat_minor": 0,
  "metadata": {
    "colab": {
      "name": "PriceAnalysis_phone.ipynb",
      "provenance": [],
      "authorship_tag": "ABX9TyNz4HFjegNWDa3DtuKEpDtc",
      "include_colab_link": true
    },
    "kernelspec": {
      "name": "python3",
      "display_name": "Python 3"
    }
  },
  "cells": [
    {
      "cell_type": "markdown",
      "metadata": {
        "id": "view-in-github",
        "colab_type": "text"
      },
      "source": [
        "<a href=\"https://colab.research.google.com/github/jungmin0710/AI_excercise/blob/main/PriceAnalysis_phone.ipynb\" target=\"_parent\"><img src=\"https://colab.research.google.com/assets/colab-badge.svg\" alt=\"Open In Colab\"/></a>"
      ]
    },
    {
      "cell_type": "markdown",
      "metadata": {
        "id": "WRL6I74B0KeP"
      },
      "source": [
        "##중고 핸드폰 가격분석##\n",
        "create_date : 판매글 올라온 날짜\n",
        "\n",
        "price : 판매 가격\n",
        "\n",
        "text : 게시글\n",
        "\n",
        "phone_model : 휴대폰 기종\n",
        "\n",
        "factory_price : 원래 가격\n",
        "\n",
        "maker : 휴대폰 제조사\n",
        "\n",
        "price_index : 판매글 올라온 시점의 물가 지수\n",
        "\n"
      ]
    },
    {
      "cell_type": "code",
      "metadata": {
        "id": "VDRciYS10Mfw"
      },
      "source": [
        "import pandas as pd\n",
        "import numpy as np\n",
        "import matplotlib.pyplot as plt\n",
        "import seaborn as sns"
      ],
      "execution_count": null,
      "outputs": []
    },
    {
      "cell_type": "code",
      "metadata": {
        "id": "Be5WgX8T0wxX",
        "outputId": "e3090b0f-85ab-47d3-d655-b2b0b1e8aa1e",
        "colab": {
          "base_uri": "https://localhost:8080/"
        }
      },
      "source": [
        "df = pd.read_csv(\"used_mobile_phone.csv\")\n",
        "print(df.info())"
      ],
      "execution_count": null,
      "outputs": [
        {
          "output_type": "stream",
          "text": [
            "<class 'pandas.core.frame.DataFrame'>\n",
            "RangeIndex: 4951 entries, 0 to 4950\n",
            "Data columns (total 7 columns):\n",
            " #   Column         Non-Null Count  Dtype  \n",
            "---  ------         --------------  -----  \n",
            " 0   create_date    4951 non-null   object \n",
            " 1   price          4951 non-null   float64\n",
            " 2   text           4951 non-null   object \n",
            " 3   phone_model    4951 non-null   object \n",
            " 4   factory_price  4951 non-null   int64  \n",
            " 5   maker          4951 non-null   object \n",
            " 6   price_index    4951 non-null   float64\n",
            "dtypes: float64(2), int64(1), object(4)\n",
            "memory usage: 270.9+ KB\n",
            "None\n"
          ],
          "name": "stdout"
        }
      ]
    },
    {
      "cell_type": "code",
      "metadata": {
        "id": "WEaKQXYg07Ky",
        "outputId": "c8eb25f8-dca2-450d-c678-01dd8a0e9fc0",
        "colab": {
          "base_uri": "https://localhost:8080/",
          "height": 194
        }
      },
      "source": [
        "df.head()"
      ],
      "execution_count": null,
      "outputs": [
        {
          "output_type": "execute_result",
          "data": {
            "text/html": [
              "<div>\n",
              "<style scoped>\n",
              "    .dataframe tbody tr th:only-of-type {\n",
              "        vertical-align: middle;\n",
              "    }\n",
              "\n",
              "    .dataframe tbody tr th {\n",
              "        vertical-align: top;\n",
              "    }\n",
              "\n",
              "    .dataframe thead th {\n",
              "        text-align: right;\n",
              "    }\n",
              "</style>\n",
              "<table border=\"1\" class=\"dataframe\">\n",
              "  <thead>\n",
              "    <tr style=\"text-align: right;\">\n",
              "      <th></th>\n",
              "      <th>create_date</th>\n",
              "      <th>price</th>\n",
              "      <th>text</th>\n",
              "      <th>phone_model</th>\n",
              "      <th>factory_price</th>\n",
              "      <th>maker</th>\n",
              "      <th>price_index</th>\n",
              "    </tr>\n",
              "  </thead>\n",
              "  <tbody>\n",
              "    <tr>\n",
              "      <th>0</th>\n",
              "      <td>2017-03-19  4 35 00 PM</td>\n",
              "      <td>550000.0</td>\n",
              "      <td>아이폰6플러스 블랙+애플라이트 64기가 팝니다  아이폰6플러스 블랙+애플라이트 64...</td>\n",
              "      <td>iphone 6 64gb</td>\n",
              "      <td>924000</td>\n",
              "      <td>apple</td>\n",
              "      <td>95.96</td>\n",
              "    </tr>\n",
              "    <tr>\n",
              "      <th>1</th>\n",
              "      <td>2016-10-26  12 08 00 PM</td>\n",
              "      <td>380000.0</td>\n",
              "      <td>갤럭시s6엣지 32기가 팝니다 직거래  갤럭시s6엣지 32기가 품명 갤럭시s6엣지제...</td>\n",
              "      <td>galaxy s6 edge 32gb</td>\n",
              "      <td>979000</td>\n",
              "      <td>samsung</td>\n",
              "      <td>103.05</td>\n",
              "    </tr>\n",
              "    <tr>\n",
              "      <th>2</th>\n",
              "      <td>2016-10-25  12 52 00 PM</td>\n",
              "      <td>300000.0</td>\n",
              "      <td>갤럭시s6 풀박스로 팝니다~~~ 새상품급  실기스조차 없어요  직접거래 구매한지 1...</td>\n",
              "      <td>galaxy s6 32gb</td>\n",
              "      <td>854000</td>\n",
              "      <td>samsung</td>\n",
              "      <td>103.05</td>\n",
              "    </tr>\n",
              "    <tr>\n",
              "      <th>3</th>\n",
              "      <td>2017-03-23  11 14 00 PM</td>\n",
              "      <td>290000.0</td>\n",
              "      <td>sk  g5 티탄 폰 단품판매합니다  직접거래 sk g5 티탄 폰 단품판매합니다 올...</td>\n",
              "      <td>lg g5 32gb</td>\n",
              "      <td>836000</td>\n",
              "      <td>lg</td>\n",
              "      <td>95.96</td>\n",
              "    </tr>\n",
              "    <tr>\n",
              "      <th>4</th>\n",
              "      <td>2016-04-11  7 35 00 PM</td>\n",
              "      <td>280000.0</td>\n",
              "      <td>sony 엑스페리아 c5 ultra e5506 16gb  미사용 새제품 팝니다 1...</td>\n",
              "      <td>lg u 32gb</td>\n",
              "      <td>396000</td>\n",
              "      <td>lg</td>\n",
              "      <td>102.59</td>\n",
              "    </tr>\n",
              "  </tbody>\n",
              "</table>\n",
              "</div>"
            ],
            "text/plain": [
              "               create_date     price  ...    maker price_index\n",
              "0   2017-03-19  4 35 00 PM  550000.0  ...    apple       95.96\n",
              "1  2016-10-26  12 08 00 PM  380000.0  ...  samsung      103.05\n",
              "2  2016-10-25  12 52 00 PM  300000.0  ...  samsung      103.05\n",
              "3  2017-03-23  11 14 00 PM  290000.0  ...       lg       95.96\n",
              "4   2016-04-11  7 35 00 PM  280000.0  ...       lg      102.59\n",
              "\n",
              "[5 rows x 7 columns]"
            ]
          },
          "metadata": {
            "tags": []
          },
          "execution_count": 3
        }
      ]
    },
    {
      "cell_type": "code",
      "metadata": {
        "id": "FaZQ1u3l0-2p"
      },
      "source": [
        "df['month'] = df[\"create_date\"].apply(lambda x:x[:7])"
      ],
      "execution_count": null,
      "outputs": []
    },
    {
      "cell_type": "code",
      "metadata": {
        "id": "RaFmXbDY2jiQ",
        "outputId": "3e7a03d7-2fb6-44de-b7cd-e8e95e393f8e",
        "colab": {
          "base_uri": "https://localhost:8080/",
          "height": 194
        }
      },
      "source": [
        "df.head()"
      ],
      "execution_count": null,
      "outputs": [
        {
          "output_type": "execute_result",
          "data": {
            "text/html": [
              "<div>\n",
              "<style scoped>\n",
              "    .dataframe tbody tr th:only-of-type {\n",
              "        vertical-align: middle;\n",
              "    }\n",
              "\n",
              "    .dataframe tbody tr th {\n",
              "        vertical-align: top;\n",
              "    }\n",
              "\n",
              "    .dataframe thead th {\n",
              "        text-align: right;\n",
              "    }\n",
              "</style>\n",
              "<table border=\"1\" class=\"dataframe\">\n",
              "  <thead>\n",
              "    <tr style=\"text-align: right;\">\n",
              "      <th></th>\n",
              "      <th>create_date</th>\n",
              "      <th>price</th>\n",
              "      <th>text</th>\n",
              "      <th>phone_model</th>\n",
              "      <th>factory_price</th>\n",
              "      <th>maker</th>\n",
              "      <th>price_index</th>\n",
              "      <th>month</th>\n",
              "    </tr>\n",
              "  </thead>\n",
              "  <tbody>\n",
              "    <tr>\n",
              "      <th>0</th>\n",
              "      <td>2017-03-19  4 35 00 PM</td>\n",
              "      <td>550000.0</td>\n",
              "      <td>아이폰6플러스 블랙+애플라이트 64기가 팝니다  아이폰6플러스 블랙+애플라이트 64...</td>\n",
              "      <td>iphone 6 64gb</td>\n",
              "      <td>924000</td>\n",
              "      <td>apple</td>\n",
              "      <td>95.96</td>\n",
              "      <td>2017-03</td>\n",
              "    </tr>\n",
              "    <tr>\n",
              "      <th>1</th>\n",
              "      <td>2016-10-26  12 08 00 PM</td>\n",
              "      <td>380000.0</td>\n",
              "      <td>갤럭시s6엣지 32기가 팝니다 직거래  갤럭시s6엣지 32기가 품명 갤럭시s6엣지제...</td>\n",
              "      <td>galaxy s6 edge 32gb</td>\n",
              "      <td>979000</td>\n",
              "      <td>samsung</td>\n",
              "      <td>103.05</td>\n",
              "      <td>2016-10</td>\n",
              "    </tr>\n",
              "    <tr>\n",
              "      <th>2</th>\n",
              "      <td>2016-10-25  12 52 00 PM</td>\n",
              "      <td>300000.0</td>\n",
              "      <td>갤럭시s6 풀박스로 팝니다~~~ 새상품급  실기스조차 없어요  직접거래 구매한지 1...</td>\n",
              "      <td>galaxy s6 32gb</td>\n",
              "      <td>854000</td>\n",
              "      <td>samsung</td>\n",
              "      <td>103.05</td>\n",
              "      <td>2016-10</td>\n",
              "    </tr>\n",
              "    <tr>\n",
              "      <th>3</th>\n",
              "      <td>2017-03-23  11 14 00 PM</td>\n",
              "      <td>290000.0</td>\n",
              "      <td>sk  g5 티탄 폰 단품판매합니다  직접거래 sk g5 티탄 폰 단품판매합니다 올...</td>\n",
              "      <td>lg g5 32gb</td>\n",
              "      <td>836000</td>\n",
              "      <td>lg</td>\n",
              "      <td>95.96</td>\n",
              "      <td>2017-03</td>\n",
              "    </tr>\n",
              "    <tr>\n",
              "      <th>4</th>\n",
              "      <td>2016-04-11  7 35 00 PM</td>\n",
              "      <td>280000.0</td>\n",
              "      <td>sony 엑스페리아 c5 ultra e5506 16gb  미사용 새제품 팝니다 1...</td>\n",
              "      <td>lg u 32gb</td>\n",
              "      <td>396000</td>\n",
              "      <td>lg</td>\n",
              "      <td>102.59</td>\n",
              "      <td>2016-04</td>\n",
              "    </tr>\n",
              "  </tbody>\n",
              "</table>\n",
              "</div>"
            ],
            "text/plain": [
              "               create_date     price  ... price_index    month\n",
              "0   2017-03-19  4 35 00 PM  550000.0  ...       95.96  2017-03\n",
              "1  2016-10-26  12 08 00 PM  380000.0  ...      103.05  2016-10\n",
              "2  2016-10-25  12 52 00 PM  300000.0  ...      103.05  2016-10\n",
              "3  2017-03-23  11 14 00 PM  290000.0  ...       95.96  2017-03\n",
              "4   2016-04-11  7 35 00 PM  280000.0  ...      102.59  2016-04\n",
              "\n",
              "[5 rows x 8 columns]"
            ]
          },
          "metadata": {
            "tags": []
          },
          "execution_count": 5
        }
      ]
    },
    {
      "cell_type": "code",
      "metadata": {
        "id": "KVUqf0Lg2r4H",
        "outputId": "e8e46e64-6f3d-490d-fb3c-592c689879ba",
        "colab": {
          "base_uri": "https://localhost:8080/"
        }
      },
      "source": [
        "df[\"month\"].value_counts()"
      ],
      "execution_count": null,
      "outputs": [
        {
          "output_type": "execute_result",
          "data": {
            "text/plain": [
              "2016-10    2956\n",
              "2017-03    1311\n",
              "2016-08     107\n",
              "2016-09     105\n",
              "2016-04     102\n",
              "2016-05      89\n",
              "2016-06      76\n",
              "2016-07      74\n",
              "2016-03      70\n",
              "2016-02      61\n",
              "Name: month, dtype: int64"
            ]
          },
          "metadata": {
            "tags": []
          },
          "execution_count": 6
        }
      ]
    },
    {
      "cell_type": "markdown",
      "metadata": {
        "id": "Ly4E8cuB3qXK"
      },
      "source": [
        "이 데이터는 2016년 10월, 2017년 3월에 집중적으로 핸드폰 중고 판매가 이루어 진 것을 알 수 있다."
      ]
    },
    {
      "cell_type": "code",
      "metadata": {
        "id": "3RQoQ0GB3N31"
      },
      "source": [
        "df_day = pd.to_datetime(df[\"create_date\"].apply(lambda x:x[:10])).value_counts()"
      ],
      "execution_count": null,
      "outputs": []
    },
    {
      "cell_type": "code",
      "metadata": {
        "id": "rLchAf704ZE8",
        "outputId": "64b005be-284d-459b-d4d3-48430f8a9a96",
        "colab": {
          "base_uri": "https://localhost:8080/",
          "height": 281
        }
      },
      "source": [
        "df_day.plot()"
      ],
      "execution_count": null,
      "outputs": [
        {
          "output_type": "execute_result",
          "data": {
            "text/plain": [
              "<matplotlib.axes._subplots.AxesSubplot at 0x7f36608acfd0>"
            ]
          },
          "metadata": {
            "tags": []
          },
          "execution_count": 8
        },
        {
          "output_type": "display_data",
          "data": {
            "image/png": "[encoded data removed]",
            "text/plain": [
              "<Figure size 432x288 with 1 Axes>"
            ]
          },
          "metadata": {
            "tags": [],
            "needs_background": "light"
          }
        }
      ]
    },
    {
      "cell_type": "markdown",
      "metadata": {
        "id": "EOhjKg2x4l83"
      },
      "source": [
        "데이터의 개수를 일자별 시계열 그래프로 나타냈다."
      ]
    },
    {
      "cell_type": "code",
      "metadata": {
        "id": "oZIpkCVI4d7C",
        "outputId": "fe8e2c7b-f39a-4196-f70d-c0e79213a7a0",
        "colab": {
          "base_uri": "https://localhost:8080/",
          "height": 296
        }
      },
      "source": [
        "df['price'].hist(bins='auto')"
      ],
      "execution_count": null,
      "outputs": [
        {
          "output_type": "execute_result",
          "data": {
            "text/plain": [
              "<matplotlib.axes._subplots.AxesSubplot at 0x7f36607cd1d0>"
            ]
          },
          "metadata": {
            "tags": []
          },
          "execution_count": 9
        },
        {
          "output_type": "display_data",
          "data": {
            "image/png": "[encoded data removed]",
            "text/plain": [
              "<Figure size 432x288 with 1 Axes>"
            ]
          },
          "metadata": {
            "tags": [],
            "needs_background": "light"
          }
        }
      ]
    },
    {
      "cell_type": "markdown",
      "metadata": {
        "id": "lPGntXnm5HIk"
      },
      "source": [
        "거래되고 있는 중고 폰들의 가격이 60만원(수치상 0.6) 이하 가격대를 형성하고 있다."
      ]
    },
    {
      "cell_type": "markdown",
      "metadata": {
        "id": "jmQp6Ix85fp3"
      },
      "source": [
        "-동일 기종 내에서의 가격분포\n",
        "\n",
        "phone_model을 groupby로 묶어 계산해보자."
      ]
    },
    {
      "cell_type": "code",
      "metadata": {
        "id": "h19DUPhr5FdA"
      },
      "source": [
        "df_price_model_mean = df.groupby(\"phone_model\")['price'].transform(lambda x:np.mean(x))"
      ],
      "execution_count": null,
      "outputs": []
    },
    {
      "cell_type": "code",
      "metadata": {
        "id": "EdVwwkYV6jlU"
      },
      "source": [
        "df_price_model_std = df.groupby('phone_model')['price'].transform(lambda x:np.std(x))"
      ],
      "execution_count": null,
      "outputs": []
    },
    {
      "cell_type": "markdown",
      "metadata": {
        "id": "hC8j9HCV62gV"
      },
      "source": [
        "z-score : 해당 값이(가격) 평균에 비해 어느정도 높거나 낮은 지를 알 수 있다.\n",
        "\n",
        "z-score = 값 - 평균 / 표준 편차"
      ]
    },
    {
      "cell_type": "code",
      "metadata": {
        "id": "lD7iGajr6xUa"
      },
      "source": [
        "df_price_model_z_score = (df[\"price\"]-df_price_model_mean)/df_price_model_std"
      ],
      "execution_count": null,
      "outputs": []
    },
    {
      "cell_type": "code",
      "metadata": {
        "id": "-z31el5_70ED",
        "outputId": "66b024c7-3f35-4ed8-f9bf-649c95c41a25",
        "colab": {
          "base_uri": "https://localhost:8080/",
          "height": 283
        }
      },
      "source": [
        "df_price_model_z_score.hist(bins='auto')"
      ],
      "execution_count": null,
      "outputs": [
        {
          "output_type": "execute_result",
          "data": {
            "text/plain": [
              "<matplotlib.axes._subplots.AxesSubplot at 0x7f3660277390>"
            ]
          },
          "metadata": {
            "tags": []
          },
          "execution_count": 13
        },
        {
          "output_type": "display_data",
          "data": {
            "image/png": "[encoded data removed]",
            "text/plain": [
              "<Figure size 432x288 with 1 Axes>"
            ]
          },
          "metadata": {
            "tags": [],
            "needs_background": "light"
          }
        }
      ]
    },
    {
      "cell_type": "markdown",
      "metadata": {
        "id": "jcqVknXW8FCQ"
      },
      "source": [
        "동일 기종 내에서 price 피처의 분포가 정규분포를 따른다는 것을 알 수 있다.\n",
        "\n",
        "factory_price의 분포 price와의 관계를 탐색"
      ]
    },
    {
      "cell_type": "code",
      "metadata": {
        "id": "Bdh6ltHu75Cd",
        "outputId": "3e4868cf-53f5-413a-f6cc-0e15702ac69d",
        "colab": {
          "base_uri": "https://localhost:8080/",
          "height": 296
        }
      },
      "source": [
        "df['factory_price'].hist(bins='auto')"
      ],
      "execution_count": null,
      "outputs": [
        {
          "output_type": "execute_result",
          "data": {
            "text/plain": [
              "<matplotlib.axes._subplots.AxesSubplot at 0x7f365fff7d68>"
            ]
          },
          "metadata": {
            "tags": []
          },
          "execution_count": 14
        },
        {
          "output_type": "display_data",
          "data": {
            "image/png": "[encoded data removed]",
            "text/plain": [
              "<Figure size 432x288 with 1 Axes>"
            ]
          },
          "metadata": {
            "tags": [],
            "needs_background": "light"
          }
        }
      ]
    },
    {
      "cell_type": "markdown",
      "metadata": {
        "id": "Vuww1CHm84R_"
      },
      "source": [
        "출고가는 80~100만원 사이가 많다."
      ]
    },
    {
      "cell_type": "code",
      "metadata": {
        "id": "tgTXWUzx82WM",
        "outputId": "f5f194a5-7c66-419c-8a28-76b45bfb99b7",
        "colab": {
          "base_uri": "https://localhost:8080/",
          "height": 296
        }
      },
      "source": [
        "df['price'].hist(bins='auto')"
      ],
      "execution_count": null,
      "outputs": [
        {
          "output_type": "execute_result",
          "data": {
            "text/plain": [
              "<matplotlib.axes._subplots.AxesSubplot at 0x7f365ef08470>"
            ]
          },
          "metadata": {
            "tags": []
          },
          "execution_count": 15
        },
        {
          "output_type": "display_data",
          "data": {
            "image/png": "[encoded data removed]",
            "text/plain": [
              "<Figure size 432x288 with 1 Axes>"
            ]
          },
          "metadata": {
            "tags": [],
            "needs_background": "light"
          }
        }
      ]
    },
    {
      "cell_type": "code",
      "metadata": {
        "id": "_Rro3hSn9G5q",
        "outputId": "00d7759d-8c73-4e60-9231-b0ea077bc247",
        "colab": {
          "base_uri": "https://localhost:8080/",
          "height": 308
        }
      },
      "source": [
        "df.plot.scatter(x='factory_price', y='price')"
      ],
      "execution_count": null,
      "outputs": [
        {
          "output_type": "execute_result",
          "data": {
            "text/plain": [
              "<matplotlib.axes._subplots.AxesSubplot at 0x7f365ec81278>"
            ]
          },
          "metadata": {
            "tags": []
          },
          "execution_count": 16
        },
        {
          "output_type": "display_data",
          "data": {
            "image/png": "[encoded data removed]",
            "text/plain": [
              "<Figure size 432x288 with 1 Axes>"
            ]
          },
          "metadata": {
            "tags": [],
            "needs_background": "light"
          }
        }
      ]
    },
    {
      "cell_type": "markdown",
      "metadata": {
        "id": "LCmez55gAR2V"
      },
      "source": [
        "두 피쳐의 값들이 양의 상관관계를 가지고 있다.\n",
        "\n",
        "'factory_price는 중고 가격에 중요한 영향을 미칠 것이다'라고 추정해 볼 수 있다.\n",
        "\n",
        "-기종별 총 거래 갯수"
      ]
    },
    {
      "cell_type": "code",
      "metadata": {
        "id": "y-so9kzZAJ8H",
        "outputId": "6c8a5a20-8c2d-460d-f154-d78b4aa07f25",
        "colab": {
          "base_uri": "https://localhost:8080/"
        }
      },
      "source": [
        "model_counts = df['phone_model'].value_counts()\n",
        "print(model_counts)"
      ],
      "execution_count": null,
      "outputs": [
        {
          "output_type": "stream",
          "text": [
            "iphone 6 64gb          1002\n",
            "iphone 6 16gb           591\n",
            "galaxy note3 32gb       231\n",
            "iphone se 64gb          216\n",
            "galaxy note5 32gb       167\n",
            "                       ... \n",
            "iphone 6s Plus 16gb      12\n",
            "iphone 7 plus 32gb       12\n",
            "iphone 4s 16gb           11\n",
            "iphone 7 plus 256gb      11\n",
            "iphone 6 32gb            10\n",
            "Name: phone_model, Length: 64, dtype: int64\n"
          ],
          "name": "stdout"
        }
      ]
    },
    {
      "cell_type": "code",
      "metadata": {
        "id": "nzskdDUtBCCE",
        "outputId": "69826370-f3f0-4c84-de59-f213d5685947",
        "colab": {
          "base_uri": "https://localhost:8080/"
        }
      },
      "source": [
        "print(model_counts.describe())"
      ],
      "execution_count": null,
      "outputs": [
        {
          "output_type": "stream",
          "text": [
            "count      64.000000\n",
            "mean       77.359375\n",
            "std       143.432786\n",
            "min        10.000000\n",
            "25%        23.000000\n",
            "50%        35.000000\n",
            "75%        90.500000\n",
            "max      1002.000000\n",
            "Name: phone_model, dtype: float64\n"
          ],
          "name": "stdout"
        }
      ]
    },
    {
      "cell_type": "code",
      "metadata": {
        "id": "nUmK4wheBZxM",
        "outputId": "0652b803-e5ef-42c1-df10-0efeb3a0cc4f",
        "colab": {
          "base_uri": "https://localhost:8080/",
          "height": 407
        }
      },
      "source": [
        "plt.boxplot(model_counts)"
      ],
      "execution_count": null,
      "outputs": [
        {
          "output_type": "execute_result",
          "data": {
            "text/plain": [
              "{'boxes': [<matplotlib.lines.Line2D at 0x7f365eba2128>],\n",
              " 'caps': [<matplotlib.lines.Line2D at 0x7f365eba2b38>,\n",
              "  <matplotlib.lines.Line2D at 0x7f365eba2eb8>],\n",
              " 'fliers': [<matplotlib.lines.Line2D at 0x7f365ebaf5f8>],\n",
              " 'means': [],\n",
              " 'medians': [<matplotlib.lines.Line2D at 0x7f365ebaf278>],\n",
              " 'whiskers': [<matplotlib.lines.Line2D at 0x7f365eba2438>,\n",
              "  <matplotlib.lines.Line2D at 0x7f365eba27b8>]}"
            ]
          },
          "metadata": {
            "tags": []
          },
          "execution_count": 19
        },
        {
          "output_type": "display_data",
          "data": {
            "image/png": "[encoded data removed]",
            "text/plain": [
              "<Figure size 432x288 with 1 Axes>"
            ]
          },
          "metadata": {
            "tags": [],
            "needs_background": "light"
          }
        }
      ]
    },
    {
      "cell_type": "code",
      "metadata": {
        "id": "Y4xNJ5rLBqsE",
        "outputId": "bfcd8260-05d1-4f7b-9136-34db09dc148a",
        "colab": {
          "base_uri": "https://localhost:8080/",
          "height": 283
        }
      },
      "source": [
        "df['maker'].hist(bins='auto')"
      ],
      "execution_count": null,
      "outputs": [
        {
          "output_type": "execute_result",
          "data": {
            "text/plain": [
              "<matplotlib.axes._subplots.AxesSubplot at 0x7f365ebd1d68>"
            ]
          },
          "metadata": {
            "tags": []
          },
          "execution_count": 20
        },
        {
          "output_type": "display_data",
          "data": {
            "image/png": "[encoded data removed]",
            "text/plain": [
              "<Figure size 432x288 with 1 Axes>"
            ]
          },
          "metadata": {
            "tags": [],
            "needs_background": "light"
          }
        }
      ]
    },
    {
      "cell_type": "code",
      "metadata": {
        "id": "_Y1t1syFDPrI",
        "outputId": "37009adc-678f-4c23-b8f8-e5a6f5dada8e",
        "colab": {
          "base_uri": "https://localhost:8080/",
          "height": 283
        }
      },
      "source": [
        "df['price_index'].hist(bins='auto')"
      ],
      "execution_count": null,
      "outputs": [
        {
          "output_type": "execute_result",
          "data": {
            "text/plain": [
              "<matplotlib.axes._subplots.AxesSubplot at 0x7f365ea66c88>"
            ]
          },
          "metadata": {
            "tags": []
          },
          "execution_count": 21
        },
        {
          "output_type": "display_data",
          "data": {
            "image/png": "[encoded data removed]",
            "text/plain": [
              "<Figure size 432x288 with 1 Axes>"
            ]
          },
          "metadata": {
            "tags": [],
            "needs_background": "light"
          }
        }
      ]
    },
    {
      "cell_type": "code",
      "metadata": {
        "id": "4gQFJIwCDVeQ",
        "outputId": "1aeb3ba6-40cc-4a65-b35d-78e1d4d170e5",
        "colab": {
          "base_uri": "https://localhost:8080/",
          "height": 596
        }
      },
      "source": [
        "plt.figure(figsize=(10,10))\n",
        "sns.heatmap(df.corr(),linewidths=0.01,square=True,\n",
        "            annot=True,cmap=plt.cm.viridis, linecolor='white')\n",
        "plt.title('JeongminEom')"
      ],
      "execution_count": null,
      "outputs": [
        {
          "output_type": "execute_result",
          "data": {
            "text/plain": [
              "Text(0.5, 1.0, 'JeongminEom')"
            ]
          },
          "metadata": {
            "tags": []
          },
          "execution_count": 22
        },
        {
          "output_type": "display_data",
          "data": {
            "image/png": "[encoded data removed]",
            "text/plain": [
              "<Figure size 720x720 with 2 Axes>"
            ]
          },
          "metadata": {
            "tags": [],
            "needs_background": "light"
          }
        }
      ]
    },
    {
      "cell_type": "markdown",
      "metadata": {
        "id": "JvgB8bdgFPt2"
      },
      "source": [
        "**인공지능 분석하기**\n",
        "\n",
        "-랜덤 포레스트 모델(Random Forest Model)-\n",
        "\n",
        "의사결정나무(Decision Tree Model)모델을 응용한 것으로 의사결정나무를 여러개 모아 하나의 숲을 구성하는 방법. 하나의 모델이 정답을 푸는게 아니라 여러개의 모델이 정답을 함께 푸는 것이기 때문에 더 정확한 학습이 가능하다. 또한 모델이 생성되는 과정에서의 피처 중요도까지 계산하기 때문에 탐색적 분석 작업에서 아주 많이 사용되는 모델이다.\n",
        "회귀, 분류 두가지에 모두 사용된다. 랜덤 포레스트 모델은 sklearn 라이브러리의 RandomForestRegressor 클래스로 사용한다.\n",
        "\n"
      ]
    },
    {
      "cell_type": "markdown",
      "metadata": {
        "id": "5UpavgkiHjoc"
      },
      "source": [
        "데이터를 학습/테스트용으로 분리한다."
      ]
    },
    {
      "cell_type": "code",
      "metadata": {
        "id": "VgDtgatiEmV2"
      },
      "source": [
        "df = df[['price','phone_model','factory_price','maker','price_index','month']]"
      ],
      "execution_count": null,
      "outputs": []
    },
    {
      "cell_type": "code",
      "metadata": {
        "id": "hPe1lGa9IBTB",
        "outputId": "689d96a0-bbb9-4c49-8ef4-17aaa6640264",
        "colab": {
          "base_uri": "https://localhost:8080/"
        }
      },
      "source": [
        "from sklearn.model_selection import train_test_split\n",
        "from sklearn.feature_extraction import DictVectorizer\n",
        "from sklearn.ensemble import RandomForestRegressor\n",
        "from sklearn.metrics import r2_score\n",
        "from sklearn.metrics import mean_squared_error\n",
        "\n",
        "df = pd.read_csv(\"used_mobile_phone.csv\")\n",
        "print(df.info())\n",
        "df.head()\n",
        "df['month'] = df['create_date'].apply(lambda x: x[:7])\n",
        "\n",
        "\n",
        "# 데이터를 학습/테스트용 데이터로 분리합니다.\n",
        "df = df[['price', 'phone_model', 'factory_price', 'maker', 'price_index', 'month']]\n",
        "df = pd.get_dummies(df, columns=['phone_model', 'maker', 'month'])\n",
        "X = df.loc[:, df.columns != 'price']\n",
        "y = df['price']\n",
        "X_train, X_test, y_train, y_test = train_test_split(X, y, test_size=0.3, random_state=0)\n",
        "\n",
        "# 랜덤 포레스트 모델을 학습합니다.\n",
        "forest = RandomForestRegressor(n_estimators=1000,\n",
        "                               criterion='mse')\n",
        "forest.fit(X_train, y_train)\n",
        "y_train_pred = forest.predict(X_train)\n",
        "y_test_pred = forest.predict(X_test)\n",
        "\n",
        "# 학습한 모델을 평가합니다.\n",
        "print('MSE train: %.3f, test: %.3f' % (\n",
        "        mean_squared_error(y_train, y_train_pred),\n",
        "        mean_squared_error(y_test, y_test_pred)))\n",
        "print('R^2 train: %.3f, test: %.3f' % (\n",
        "        r2_score(y_train, y_train_pred),\n",
        "        r2_score(y_test, y_test_pred)))"
      ],
      "execution_count": null,
      "outputs": [
        {
          "output_type": "stream",
          "text": [
            "<class 'pandas.core.frame.DataFrame'>\n",
            "RangeIndex: 4951 entries, 0 to 4950\n",
            "Data columns (total 7 columns):\n",
            " #   Column         Non-Null Count  Dtype  \n",
            "---  ------         --------------  -----  \n",
            " 0   create_date    4951 non-null   object \n",
            " 1   price          4951 non-null   float64\n",
            " 2   text           4951 non-null   object \n",
            " 3   phone_model    4951 non-null   object \n",
            " 4   factory_price  4951 non-null   int64  \n",
            " 5   maker          4951 non-null   object \n",
            " 6   price_index    4951 non-null   float64\n",
            "dtypes: float64(2), int64(1), object(4)\n",
            "memory usage: 270.9+ KB\n",
            "None\n",
            "MSE train: 10627763605.049, test: 13847639418.500\n",
            "R^2 train: 0.781, test: 0.683\n"
          ],
          "name": "stdout"
        }
      ]
    },
    {
      "cell_type": "markdown",
      "metadata": {
        "id": "6zXbeuOFOrRn"
      },
      "source": [
        "피처 값들의 중요도를 분석한다."
      ]
    },
    {
      "cell_type": "code",
      "metadata": {
        "id": "QYMShzRaJ8LK",
        "outputId": "c55248bb-fc66-4084-e3c2-2d623f0775d5",
        "colab": {
          "base_uri": "https://localhost:8080/",
          "height": 283
        }
      },
      "source": [
        "importances = forest.feature_importances_\n",
        "indices = np.argsort(importances)[::-1]\n",
        "plt.bar(range(X.shape[1]),importances[indices])"
      ],
      "execution_count": null,
      "outputs": [
        {
          "output_type": "execute_result",
          "data": {
            "text/plain": [
              "<BarContainer object of 84 artists>"
            ]
          },
          "metadata": {
            "tags": []
          },
          "execution_count": 28
        },
        {
          "output_type": "display_data",
          "data": {
            "image/png": "[encoded data removed]",
            "text/plain": [
              "<Figure size 432x288 with 1 Axes>"
            ]
          },
          "metadata": {
            "tags": [],
            "needs_background": "light"
          }
        }
      ]
    },
    {
      "cell_type": "code",
      "metadata": {
        "id": "j45WAyyRO1kP",
        "outputId": "5c551037-d77d-4b47-82d6-9653a9edc222",
        "colab": {
          "base_uri": "https://localhost:8080/"
        }
      },
      "source": [
        "feat_labels = X.columns.tolist()\n",
        "feature = list(zip(feat_labels, forest.feature_importances_))\n",
        "sorted(feature, key=lambda tup: tup[1], reverse=True)[:10]"
      ],
      "execution_count": null,
      "outputs": [
        {
          "output_type": "execute_result",
          "data": {
            "text/plain": [
              "[('factory_price', 0.405664172631774),\n",
              " ('maker_apple', 0.2975601498624609),\n",
              " ('phone_model_galaxy s3 3g 8gb', 0.022291452031126525),\n",
              " ('phone_model_iphone se 64gb', 0.021811192250813214),\n",
              " ('price_index', 0.020321197990707796),\n",
              " ('phone_model_galaxy s4 32gb', 0.016611395202650852),\n",
              " ('month_2017-03', 0.014864571292011769),\n",
              " ('maker_samsung', 0.014399384020327335),\n",
              " ('phone_model_galaxy s6 32gb', 0.01247957175529543),\n",
              " ('month_2016-05', 0.011030714374033088)]"
            ]
          },
          "metadata": {
            "tags": []
          },
          "execution_count": 32
        }
      ]
    },
    {
      "cell_type": "markdown",
      "metadata": {
        "id": "62NdxvecQXUb"
      },
      "source": [
        "피처의 값들 중에서 영향력이 높은 순으로 출력"
      ]
    },
    {
      "cell_type": "code",
      "metadata": {
        "id": "rlC1V_CIQDD5",
        "outputId": "9ac0719f-6f1c-4528-99f0-76d1ecb7cc4d",
        "colab": {
          "base_uri": "https://localhost:8080/"
        }
      },
      "source": [
        "for sorted_feature in sorted(feature, key=lambda tup: tup[1], reverse=True):\n",
        "  if 'month' in sorted_feature[0]:\n",
        "    print(sorted_feature)"
      ],
      "execution_count": null,
      "outputs": [
        {
          "output_type": "stream",
          "text": [
            "('month_2017-03', 0.014864571292011769)\n",
            "('month_2016-05', 0.011030714374033088)\n",
            "('month_2016-09', 0.008249117487427068)\n",
            "('month_2016-04', 0.0076643548458689885)\n",
            "('month_2016-10', 0.006333970286353752)\n",
            "('month_2016-06', 0.004496597318118267)\n",
            "('month_2016-08', 0.0036055681419139116)\n",
            "('month_2016-07', 0.002677687291293633)\n",
            "('month_2016-03', 0.002366801214420975)\n",
            "('month_2016-02', 0.0010205610886368202)\n"
          ],
          "name": "stdout"
        }
      ]
    },
    {
      "cell_type": "markdown",
      "metadata": {
        "id": "59nN07YoQ5S6"
      },
      "source": [
        "**데이터 분석 결과 종합**\n",
        "\n",
        "피처\n",
        "\n",
        "date: 월 단위로 살펴본 결과 2016년 10월과 2017년 3월의 데이터가 가장 많다. 최근 가까운 달일 수록 중요한 피처다.\n",
        "\n",
        "price: 전체 휴대폰의 거래가격과 달리 기종별 가격의 분포는 정규분포 형태를 띄고 있다. \n",
        "\n",
        "factory_price: price피처와 양의 상관관계를 가지고 있다. 중고 가격 형성에 있어서 가장 중요한 피처이다.\n",
        "\n",
        "phone_model: 소수의 인기 기종이 많은 데이터를 가지고 있다.\n",
        "\n",
        "maker: Apple 브랜드가 가장 많고 가격 예측에서도 Apple은 중요한 피쳐다.\n",
        "\n",
        "price_index: 월별 변동은 크지 않고 그다지 중요한 피처가 아니다(물가는 가격 형성에 별로 영향을 미치지 않는다)."
      ]
    },
    {
      "cell_type": "markdown",
      "metadata": {
        "id": "SZhYS6QLSf6x"
      },
      "source": [
        "-데이터분석 개선\n",
        "\n",
        "phone_model이 제품명 + 용량으로 구성되어 있어서 이를 나누면 2개의 분리된 피처를 얻을 수 있다."
      ]
    },
    {
      "cell_type": "code",
      "metadata": {
        "id": "QDsgddi7TOub"
      },
      "source": [
        ""
      ],
      "execution_count": null,
      "outputs": []
    }
  ]
}